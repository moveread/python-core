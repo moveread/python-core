{
 "cells": [
  {
   "cell_type": "markdown",
   "metadata": {},
   "source": [
    "### Note to self: Run All should do the trick!"
   ]
  },
  {
   "cell_type": "code",
   "execution_count": null,
   "metadata": {},
   "outputs": [],
   "source": [
    "import pure_cv as vc\n",
    "from moveread.core import Game, Player, Sheet, Image\n",
    "from moveread.annotations.images import Annotations, Rectangle\n",
    "from moveread.annotations.players import PlayerMeta\n",
    "from moveread.annotations.sheets import SheetMeta\n",
    "from moveread.local import LocalAPI\n",
    "from moveread.export.games import export_samples\n",
    "api = LocalAPI.at('data')"
   ]
  },
  {
   "cell_type": "code",
   "execution_count": null,
   "metadata": {},
   "outputs": [],
   "source": [
    "sheet = vc.imread('../.dev/images/models/fcde/xl.jpg')\n",
    "ann = Annotations(grid_coords=Rectangle(tl=(0.05, 0.195), size=(0.935, 0.66))).model_dump(exclude_none=True)"
   ]
  },
  {
   "cell_type": "code",
   "execution_count": null,
   "metadata": {},
   "outputs": [],
   "source": [
    "pgn = 'e4 c6 d4 d5 Nd2 dxe4 Nxe4 Nf6 Nxf6 exf6 Bc4 Be7 Ne2 Na6'\n",
    "game = Game(\n",
    "  id='game-id', meta=dict(pgn=pgn), players=[\n",
    "    Player(\n",
    "      meta=PlayerMeta(language='CA').model_dump(),\n",
    "      sheets=[Sheet(meta=SheetMeta(model='fcde').model_dump(), images=[Image(url='img', meta=ann)])]\n",
    "    )\n",
    "  ])\n",
    "(await api.games.insert('game-id', game),\n",
    "await api.blobs.insert('img', vc.encode(sheet, '.jpg')))"
   ]
  },
  {
   "cell_type": "code",
   "execution_count": null,
   "metadata": {},
   "outputs": [],
   "source": [
    "samples = (await export_samples(game, api=api)).unsafe()\n",
    "xs = samples[0].unsafe().samples"
   ]
  },
  {
   "cell_type": "code",
   "execution_count": null,
   "metadata": {},
   "outputs": [],
   "source": [
    "vc.show(*[(x[0].label, x[0].box) for x in xs], ncols=2, height=2)"
   ]
  }
 ],
 "metadata": {
  "kernelspec": {
   "display_name": ".venv",
   "language": "python",
   "name": "python3"
  },
  "language_info": {
   "codemirror_mode": {
    "name": "ipython",
    "version": 3
   },
   "file_extension": ".py",
   "mimetype": "text/x-python",
   "name": "python",
   "nbconvert_exporter": "python",
   "pygments_lexer": "ipython3",
   "version": "3.11.6"
  }
 },
 "nbformat": 4,
 "nbformat_minor": 2
}

{
 "cells": [
  {
   "cell_type": "code",
   "execution_count": 13,
   "metadata": {},
   "outputs": [],
   "source": [
    "from moveread.core import ImageID\n",
    "from moveread.sdk import MovereadAPI"
   ]
  },
  {
   "cell_type": "code",
   "execution_count": 15,
   "metadata": {},
   "outputs": [
    {
     "data": {
      "text/plain": [
       "Right(value=Game(id='new-game', players=[Player(sheets=[Sheet(images=[Image(url='new-game/0-0-0', boxes=None, meta={'schema': 'camera'})], meta=None)], meta=None), Player(sheets=[Sheet(images=[Image(url='new-game/1-0-0', boxes=None, meta=None)], meta=None)], meta=None)], meta=None), tag='right')"
      ]
     },
     "execution_count": 15,
     "metadata": {},
     "output_type": "execute_result"
    }
   ],
   "source": [
    "api = MovereadAPI.at('data')\n",
    "\n",
    "await api.games.create('new-game', [[b'img1'], [b'img2']])\n",
    "await api.games.create('other/new/game', [[b'img1'], [b'img2']])\n",
    "await api.images.annotate(ImageID('new-game', 0, 0), 'source', 'camera')"
   ]
  },
  {
   "cell_type": "code",
   "execution_count": 16,
   "metadata": {},
   "outputs": [
    {
     "data": {
      "text/plain": [
       "([Right(value='new-game', tag='right'),\n",
       "  Right(value='other/new/game', tag='right')],\n",
       " Right(value=Game(id='new-game', players=[Player(sheets=[Sheet(images=[Image(url='new-game/0-0-0', boxes=None, meta={'schema': 'camera'})], meta=None)], meta=None), Player(sheets=[Sheet(images=[Image(url='new-game/1-0-0', boxes=None, meta=None)], meta=None)], meta=None)], meta=None), tag='right'))"
      ]
     },
     "execution_count": 16,
     "metadata": {},
     "output_type": "execute_result"
    }
   ],
   "source": [
    "await api.games.list(), await api.games.read('new-game')"
   ]
  }
 ],
 "metadata": {
  "kernelspec": {
   "display_name": ".venv",
   "language": "python",
   "name": "python3"
  },
  "language_info": {
   "codemirror_mode": {
    "name": "ipython",
    "version": 3
   },
   "file_extension": ".py",
   "mimetype": "text/x-python",
   "name": "python",
   "nbconvert_exporter": "python",
   "pygments_lexer": "ipython3",
   "version": "3.11.6"
  }
 },
 "nbformat": 4,
 "nbformat_minor": 2
}

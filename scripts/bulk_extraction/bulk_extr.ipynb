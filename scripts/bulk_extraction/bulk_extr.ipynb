{
 "cells": [
  {
   "cell_type": "code",
   "execution_count": 1,
   "metadata": {},
   "outputs": [],
   "source": [
    "from typing import AsyncIterable, TypeVar, Any, Iterable, Awaitable\n",
    "from pydantic import BaseModel\n",
    "import pure_cv as vc\n",
    "import haskellian.either as E\n",
    "import haskellian.asyn as hka\n",
    "import haskellian.iterables\n",
    "from moveread.annotations.images import ImageMeta, Source\n",
    "from moveread.annotations.games import GameMeta\n",
    "from moveread.sdk import MovereadAPI\n",
    "from moveread.boxes.annotations import RobustExtractionResult\n",
    "from moveread.bulk_extraction.scripts import extract, transfer, ExtractMeta\n",
    "from moveread.bulk_extraction.scripts.extract_ import ExtractTask, run_task\n",
    "from moveread.core import Game, CoreAPI, Image, ImageID, ops\n",
    "from moveread.export.games import export_boxes\n",
    "import requests\n",
    "import robust_extraction as re\n",
    "import robust_extraction.templates as ts"
   ]
  },
  {
   "cell_type": "code",
   "execution_count": 2,
   "metadata": {},
   "outputs": [],
   "source": [
    "input = MovereadAPI.at('/home/m4rs/.core/llobregat23/')\n",
    "output = MovereadAPI.at('/home/m4rs/.core/scans-extr-llobregat23/')"
   ]
  },
  {
   "cell_type": "code",
   "execution_count": 3,
   "metadata": {},
   "outputs": [
    {
     "name": "stdout",
     "output_type": "stream",
     "text": [
      "617 [ImageID(gameId='a/9/9', player=1, page=0, version=1)]]"
     ]
    }
   ],
   "source": [
    "def filter_sources(game: Game, sources: set[Source]) -> Iterable[tuple[ImageID, Image]]:\n",
    "  for id, image in game.images:\n",
    "    meta = E.validate(image.meta, ImageMeta)\n",
    "    if meta.match(lambda _: False, lambda m: m.source in sources):\n",
    "      yield id, image\n",
    "\n",
    "async def sources_of(games: AsyncIterable[Game], sources: set[Source]) -> AsyncIterable[tuple[ImageID, Image]]:\n",
    "  async for game in games:\n",
    "    for x in filter_sources(game, sources):\n",
    "      yield x\n",
    "\n",
    "a_games = [game for res in (await input.games.list()) if (game := res.unsafe()).startswith('a')]\n",
    "\n",
    "async def prepare_all(games: list[str], input: MovereadAPI, output: MovereadAPI):\n",
    "  for gameId in games:\n",
    "    try:\n",
    "      game = (await input.games.read(gameId)).unsafe()\n",
    "      (await output.core.games.insert(gameId, game)).unsafe()\n",
    "      yield game\n",
    "    except E.IsLeft as e:\n",
    "      print(f'Error with game IO: {gameId}:', e)\n",
    "\n",
    "async def scan_tasks(games: list[str], input: MovereadAPI, output: MovereadAPI) -> AsyncIterable[ExtractTask]:\n",
    "  async for imgId, image in sources_of(prepare_all(games, input, output), {'corrected-scan'}):\n",
    "    img = await input.core.blobs.read(image.url)\n",
    "    if E.is_right(img):\n",
    "      yield ExtractTask(img.value, 'llobregat23', imgId)\n",
    "\n",
    "async for i, task in hka.enumerate(scan_tasks(a_games, input, output)):\n",
    "  print(f'\\r{i} [{task.imageId}]', end='', flush=True)\n",
    "  res = await run_task(task, output)\n",
    "  if res.tag == 'left':\n",
    "    print('Error:', res.value)"
   ]
  }
 ],
 "metadata": {
  "kernelspec": {
   "display_name": ".venv",
   "language": "python",
   "name": "python3"
  },
  "language_info": {
   "codemirror_mode": {
    "name": "ipython",
    "version": 3
   },
   "file_extension": ".py",
   "mimetype": "text/x-python",
   "name": "python",
   "nbconvert_exporter": "python",
   "pygments_lexer": "ipython3",
   "version": "3.11.6"
  }
 },
 "nbformat": 4,
 "nbformat_minor": 2
}

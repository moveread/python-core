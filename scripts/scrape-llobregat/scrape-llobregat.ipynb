{
 "cells": [
  {
   "cell_type": "code",
   "execution_count": 27,
   "metadata": {},
   "outputs": [],
   "source": [
    "from typing import Iterable, Mapping, Callable, TypeVar, Generic, MutableMapping, Sequence\n",
    "import os\n",
    "from haskellian import either as E\n",
    "from moveread.core import CoreAPI, Game\n",
    "from moveread.annotations import GameMeta, Tournament\n",
    "import chess_utils as cu\n",
    "import chess_pairings as cp\n",
    "T = TypeVar('T')"
   ]
  },
  {
   "cell_type": "code",
   "execution_count": 2,
   "metadata": {},
   "outputs": [
    {
     "name": "stderr",
     "output_type": "stream",
     "text": [
      "illegal san: 'Kd5' in 3r2r1/4Q3/4p3/1R2kp2/8/6P1/2q2P1P/3R2K1 b - - 2 35 while parsing <Game at 0x7f7e98fb8090 ('Garcia Ramos, Daniel' vs. 'Birkisson, Bardur Orn', '2023.11.30' at 'Sant Boi de Llobregat, Spain')>\n",
      "illegal san: 'Kxe5' in 4r3/5p2/2p1k1p1/1p1pPnPp/p2P3P/P1P2P1B/1R2K3/8 b - - 1 39 while parsing <Game at 0x7f7e98563490 ('Sorensen, Hampus' vs. 'Hulka, Valentyn', '2023.12.03' at 'Sant Boi de Llobregat, Spain')>\n",
      "illegal san: 'Kd4' in 3r4/1p6/2p1k3/2P1pp1p/P1R2n2/4KP2/2Br4/6R1 w - - 1 45 while parsing <Game at 0x7f7e97493710 ('Rakshitta, Ravi' vs. 'Narciso Dublan, Marc', '2023.12.08' at 'Sant Boi de Llobregat, Spain')>\n"
     ]
    }
   ],
   "source": [
    "all_games = list(cu.read_pgns(open('/mnt/j/My Drive/original/llobregat23/livegames/all.pgn')))\n",
    "games = cp.classify(all_games, headers2group=lambda _: 'a', headers2tournId=lambda _: 'llobregat23')"
   ]
  },
  {
   "cell_type": "code",
   "execution_count": 29,
   "metadata": {},
   "outputs": [],
   "source": [
    "core = CoreAPI.at('/home/m4rs/.core/llobregat23')\n",
    "core_games = await core.games.values().map(E.unsafe).sync()"
   ]
  },
  {
   "cell_type": "code",
   "execution_count": 30,
   "metadata": {},
   "outputs": [],
   "source": [
    "def parse(id: str) -> cp.GameId:\n",
    "  grp, rnd, brd = id.split('/')\n",
    "  return cp.gameId('llobregat23', grp, rnd, brd)\n",
    "\n",
    "def dump(tournId: str, group: str, round: str, board: str) -> str:\n",
    "  return f'{group}/{round}/{board}'\n",
    "\n",
    "core_index = cp.GamesMapping[Game].from_pairs([(parse(g.id), g) for g in core_games])"
   ]
  },
  {
   "cell_type": "code",
   "execution_count": 31,
   "metadata": {},
   "outputs": [
    {
     "name": "stdout",
     "output_type": "stream",
     "text": [
      "a/1/1\n"
     ]
    }
   ],
   "source": [
    "from moveread.core.models import Game\n",
    "\n",
    "for gid in games.gameIds():\n",
    "  if gid in core_index:\n",
    "    game = core_index[gid]\n",
    "    meta: GameMeta = game.meta # type: ignore\n",
    "    dirty = False\n",
    "    if meta.pgn is None:\n",
    "      meta.pgn = cu.read_sans(games[gid])\n",
    "      dirty = True\n",
    "    if meta.tournament is None:\n",
    "      meta.tournament = Tournament(**gid)\n",
    "      dirty = True\n",
    "    elif meta.tournament != Tournament(**gid):\n",
    "      print(f'Oops! {gid}')\n",
    "\n",
    "    if dirty:\n",
    "      print(game.id)\n",
    "      (await core.games.insert(game.id, game)).unsafe()"
   ]
  },
  {
   "cell_type": "code",
   "execution_count": 32,
   "metadata": {},
   "outputs": [],
   "source": [
    "for i, game in enumerate(core_games):\n",
    "  # print(f'\\r{i+1}/{len(core_games)}', end='', flush=True)\n",
    "  gid = parse(game.id)\n",
    "  meta = game.meta\n",
    "  if (meta is None or meta.pgn is None) and gid in games:\n",
    "    print(game.id)"
   ]
  }
 ],
 "metadata": {
  "kernelspec": {
   "display_name": ".venv",
   "language": "python",
   "name": "python3"
  },
  "language_info": {
   "codemirror_mode": {
    "name": "ipython",
    "version": 3
   },
   "file_extension": ".py",
   "mimetype": "text/x-python",
   "name": "python",
   "nbconvert_exporter": "python",
   "pygments_lexer": "ipython3",
   "version": "3.11.6"
  }
 },
 "nbformat": 4,
 "nbformat_minor": 2
}

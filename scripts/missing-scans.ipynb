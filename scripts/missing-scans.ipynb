{
 "cells": [
  {
   "cell_type": "markdown",
   "metadata": {},
   "source": [
    "Apparently I simply didn't scan games after board 55 on the latest rounds..."
   ]
  },
  {
   "cell_type": "code",
   "execution_count": 18,
   "metadata": {},
   "outputs": [],
   "source": [
    "import os\n",
    "from glob import glob\n",
    "from moveread.core import CoreAPI\n",
    "og_core = CoreAPI.at('/home/m4rs/.core/llobregat23')"
   ]
  },
  {
   "cell_type": "code",
   "execution_count": 33,
   "metadata": {},
   "outputs": [],
   "source": [
    "def parseId(name: str):\n",
    "  grp, rnd, rest = name.split('-')\n",
    "  brd, *_ = rest.split('_')\n",
    "  return f'{grp}/{rnd}/{brd}'\n",
    "\n",
    "def parse_path(path: str):\n",
    "  name = os.path.splitext(os.path.basename(path))[0]\n",
    "  return parseId(name)\n",
    "\n",
    "BASE = '/mnt/i/My Drive/moveread/datasets/llobregat/scanned/corrected_sheets'\n",
    "scans = glob(f'{BASE}/**/*.jpg', recursive=True)"
   ]
  },
  {
   "cell_type": "code",
   "execution_count": 39,
   "metadata": {},
   "outputs": [
    {
     "data": {
      "text/plain": [
       "['a/7/20',\n",
       " 'a/7/53',\n",
       " 'a/7/51',\n",
       " 'a/7/4',\n",
       " 'a/7/47',\n",
       " 'a/7/9',\n",
       " 'a/7/6',\n",
       " 'a/7/25',\n",
       " 'a/7/49',\n",
       " 'a/7/50',\n",
       " 'a/7/32',\n",
       " 'a/7/34',\n",
       " 'a/7/33',\n",
       " 'a/7/7',\n",
       " 'a/7/44',\n",
       " 'a/7/11',\n",
       " 'a/7/15',\n",
       " 'a/7/3',\n",
       " 'a/7/42',\n",
       " 'a/7/5',\n",
       " 'a/7/41',\n",
       " 'a/7/37',\n",
       " 'a/7/29',\n",
       " 'a/7/26',\n",
       " 'a/7/16',\n",
       " 'a/7/54',\n",
       " 'a/7/28',\n",
       " 'a/7/21',\n",
       " 'a/7/48',\n",
       " 'a/7/2',\n",
       " 'a/7/24',\n",
       " 'a/7/27',\n",
       " 'a/7/55',\n",
       " 'a/7/46',\n",
       " 'a/7/38',\n",
       " 'a/7/10',\n",
       " 'a/7/31',\n",
       " 'a/7/14',\n",
       " 'a/7/1',\n",
       " 'a/7/19',\n",
       " 'a/7/39',\n",
       " 'a/7/40',\n",
       " 'a/7/13',\n",
       " 'a/7/17',\n",
       " 'a/7/43',\n",
       " 'a/7/52',\n",
       " 'a/7/30',\n",
       " 'a/7/36',\n",
       " 'a/7/23',\n",
       " 'a/7/18',\n",
       " 'a/7/8',\n",
       " 'a/7/35',\n",
       " 'a/7/45',\n",
       " 'a/7/22',\n",
       " 'a/7/12']"
      ]
     },
     "execution_count": 39,
     "metadata": {},
     "output_type": "execute_result"
    }
   ],
   "source": [
    "gameIds = { parse_path(p) for p in scans }\n",
    "# coreIds = set((await og_core.games.keys()).unsafe())\n",
    "[g for g in gameIds if g.startswith('a/7')]"
   ]
  }
 ],
 "metadata": {
  "kernelspec": {
   "display_name": ".venv",
   "language": "python",
   "name": "python3"
  },
  "language_info": {
   "codemirror_mode": {
    "name": "ipython",
    "version": 3
   },
   "file_extension": ".py",
   "mimetype": "text/x-python",
   "name": "python",
   "nbconvert_exporter": "python",
   "pygments_lexer": "ipython3",
   "version": "3.11.6"
  }
 },
 "nbformat": 4,
 "nbformat_minor": 2
}

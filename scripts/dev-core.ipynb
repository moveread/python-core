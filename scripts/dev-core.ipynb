{
 "cells": [
  {
   "cell_type": "markdown",
   "metadata": {},
   "source": [
    "Generate random cores with any size"
   ]
  },
  {
   "cell_type": "code",
   "execution_count": 1,
   "metadata": {},
   "outputs": [],
   "source": [
    "NUM_GAMES = 2\n",
    "from typing import Callable\n",
    "import random\n",
    "from haskellian import iter as I, promise as P, either as E\n",
    "import pure_cv as vc\n",
    "from moveread.core import CoreAPI, Game, Image\n",
    "from moveread.annotations.images import ImageMeta\n",
    "from moveread.sdk import MovereadAPI\n",
    "api = MovereadAPI.at('/home/m4rs/.core/llobregat23/')"
   ]
  },
  {
   "cell_type": "code",
   "execution_count": 2,
   "metadata": {},
   "outputs": [],
   "source": [
    "def choose_image(images: list[Image]) -> str:\n",
    "  for img in images:\n",
    "    meta = ImageMeta.model_validate(img.meta)\n",
    "    if meta.source == 'camera' or meta.source == 'corrected-scan':\n",
    "      return img.url\n",
    "  return images[0].url\n",
    "\n",
    "async def read_game(\n",
    "  gameId: str, core: CoreAPI,\n",
    "  choose_image: Callable[[list[Image]], str] = choose_image\n",
    ") -> tuple[Game, list[list[bytes]]]:\n",
    "  game = (await core.games.read(gameId)).unsafe()\n",
    "  imgs = await P.all([\n",
    "    P.all([core.blobs.read(choose_image(sheet.images)).then(E.unsafe) for sheet in player.sheets])\n",
    "    for player in game.players\n",
    "  ])\n",
    "  return game, imgs\n",
    "\n",
    "async def sample_games(source: MovereadAPI, n: int) -> list[str]:\n",
    "  gameIds = E.sequence(await source.games.list()).unsafe()\n",
    "  indices = random.sample(range(len(gameIds)), n)\n",
    "  return I.pick(indices, gameIds)\n",
    "\n",
    "async def sample_core(src: MovereadAPI, dst: MovereadAPI, num_games: int):\n",
    "  gameIds = await sample_games(src, num_games)\n",
    "  for i, gid in enumerate(gameIds):\n",
    "    print(f'\\r{i+1} / {len(gameIds)} [{gid}]\\t', end='', flush=True)\n",
    "    _, imgs = await read_game(gid, api.core)\n",
    "    await dst.games.create(gid, imgs)\n",
    "  print()"
   ]
  },
  {
   "cell_type": "code",
   "execution_count": 3,
   "metadata": {},
   "outputs": [
    {
     "name": "stdout",
     "output_type": "stream",
     "text": [
      "2\n",
      "2 / 2 [b/6/3]\t\t\n",
      "5\n",
      "5 / 5 [a/6/45]\t\n",
      "10\n",
      "10 / 10 [b/5/23]\t\n",
      "25\n",
      "25 / 25 [a/5/41]\t\n",
      "50\n",
      "50 / 50 [a/5/101]\t\n",
      "100\n",
      "100 / 100 [a/2/1]\t\t\n"
     ]
    }
   ],
   "source": [
    "for n in [2, 5, 10, 25, 50, 100]:\n",
    "  print(n)\n",
    "  output = f'/home/m4rs/.core/dev-cores/{n}'\n",
    "  dst = MovereadAPI.debug(output)\n",
    "  await sample_core(api, dst, n)"
   ]
  }
 ],
 "metadata": {
  "kernelspec": {
   "display_name": ".venv",
   "language": "python",
   "name": "python3"
  },
  "language_info": {
   "codemirror_mode": {
    "name": "ipython",
    "version": 3
   },
   "file_extension": ".py",
   "mimetype": "text/x-python",
   "name": "python",
   "nbconvert_exporter": "python",
   "pygments_lexer": "ipython3",
   "version": "3.11.6"
  }
 },
 "nbformat": 4,
 "nbformat_minor": 2
}

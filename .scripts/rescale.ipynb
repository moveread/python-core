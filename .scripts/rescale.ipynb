{
 "cells": [
  {
   "cell_type": "code",
   "execution_count": 15,
   "metadata": {},
   "outputs": [],
   "source": [
    "import os\n",
    "import glob\n",
    "import cv2 as cv\n",
    "import pure_cv as vc"
   ]
  },
  {
   "cell_type": "code",
   "execution_count": 17,
   "metadata": {},
   "outputs": [
    {
     "name": "stdout",
     "output_type": "stream",
     "text": [
      "726/726"
     ]
    }
   ],
   "source": [
    "paths = glob.glob('/home/m4rs/.core/llobregat23/blobs/contoured/*.jpg')\n",
    "for i, path in enumerate(paths):\n",
    "  print(f'\\r{i+1}/{len(paths)}', end='', flush=True)\n",
    "  img = cv.imread(path)\n",
    "  descaled_img = vc.descale_h(img, 512)\n",
    "  cv.imwrite(path, descaled_img)"
   ]
  }
 ],
 "metadata": {
  "kernelspec": {
   "display_name": ".venv",
   "language": "python",
   "name": "python3"
  },
  "language_info": {
   "codemirror_mode": {
    "name": "ipython",
    "version": 3
   },
   "file_extension": ".py",
   "mimetype": "text/x-python",
   "name": "python",
   "nbconvert_exporter": "python",
   "pygments_lexer": "ipython3",
   "version": "3.11.6"
  }
 },
 "nbformat": 4,
 "nbformat_minor": 2
}

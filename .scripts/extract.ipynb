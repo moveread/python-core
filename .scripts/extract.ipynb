{
 "cells": [
  {
   "cell_type": "code",
   "execution_count": 1,
   "metadata": {},
   "outputs": [],
   "source": [
    "import asyncio\n",
    "from haskellian.asyn import syncify, then\n",
    "import haskellian.either as E\n",
    "from pydantic import BaseModel\n",
    "from typing import Any\n",
    "import pure_cv as vc\n",
    "import robust_extraction as re\n",
    "import robust_extraction.templates as ts\n",
    "from uuid import uuid4\n",
    "from moveread.core import Game, CoreAPI\n",
    "from moveread.annotations.games import GameMeta\n",
    "from moveread.annotations.images import ImageMeta\n",
    "from moveread.sdk import MovereadAPI"
   ]
  },
  {
   "cell_type": "code",
   "execution_count": 2,
   "metadata": {},
   "outputs": [],
   "source": [
    "class Result(BaseModel):\n",
    "  contours: list\n",
    "  corrected_url: str\n",
    "  contoured_url: str\n",
    "\n",
    "class ExtractMeta(ImageMeta):\n",
    "  robust_extract_result: E.Either[Any, Result]"
   ]
  },
  {
   "cell_type": "code",
   "execution_count": 2,
   "metadata": {},
   "outputs": [],
   "source": [
    "def is_group_a(game: Game):\n",
    "  if game.meta is None:\n",
    "    return False\n",
    "  meta = GameMeta.model_validate(game.meta)\n",
    "  return meta.tournament and meta.tournament.group == 'a'\n",
    "\n",
    "api = MovereadAPI.at('/home/m4rs/.core/llobregat23/')\n",
    "all_games = [\n",
    "  x.unsafe()[1] for x in \n",
    "  await syncify(api.core.games.items())\n",
    "]\n",
    "a_games = list(filter(is_group_a, all_games))"
   ]
  },
  {
   "cell_type": "code",
   "execution_count": 4,
   "metadata": {},
   "outputs": [],
   "source": [
    "async def store_results(res: re.Result, core: CoreAPI, contoured_height = 512) -> Result:\n",
    "  corr = vc.encode(res.corr_img, '.jpg')\n",
    "  cont = vc.draw.contours(res.contours, res.corr_img)\n",
    "  cont = vc.descale_h(cont, contoured_height)\n",
    "  cont = vc.encode(cont, '.jpg')\n",
    "  corr_id = f'corrected/{uuid4()}'\n",
    "  cont_id = f'contoured/{uuid4()}'\n",
    "  await asyncio.gather(\n",
    "    then(lambda x: x.unsafe(), core.blobs.insert(corr_id, corr)),\n",
    "    then(lambda x: x.unsafe(), core.blobs.insert(cont_id, cont)),\n",
    "  )\n",
    "  return Result(contours=res.contours.tolist(), corrected_url=corr_id, contoured_url=cont_id)"
   ]
  },
  {
   "cell_type": "code",
   "execution_count": 5,
   "metadata": {},
   "outputs": [
    {
     "name": "stdout",
     "output_type": "stream",
     "text": [
      "a/6/61, 1, 00"
     ]
    },
    {
     "name": "stderr",
     "output_type": "stream",
     "text": [
      "/home/m4rs/mr-github/rnd/cv/robust-extraction/robust-extraction/src/robust_extraction/vectors/vectors.py:8: RuntimeWarning: invalid value encountered in divide\n",
      "  return v / np.linalg.norm(v)\n"
     ]
    },
    {
     "name": "stdout",
     "output_type": "stream",
     "text": [
      "a/8/84, 1, 1"
     ]
    },
    {
     "name": "stderr",
     "output_type": "stream",
     "text": [
      "/home/m4rs/mr-github/rnd/cv/robust-extraction/robust-extraction/src/robust_extraction/vectors/vectors.py:8: RuntimeWarning: invalid value encountered in divide\n",
      "  return v / np.linalg.norm(v)\n"
     ]
    },
    {
     "name": "stdout",
     "output_type": "stream",
     "text": [
      "a/5/29, 1, 0"
     ]
    }
   ],
   "source": [
    "for game in a_games:\n",
    "  for i, player in enumerate(game.players):\n",
    "    for j, sheet in enumerate(player.sheets):\n",
    "      print(f'\\r{game.id}, {i}, {j}', end='', flush=True)\n",
    "      image = sheet.images[-1]\n",
    "      img = (await api.core.blobs.read(image.url)).unsafe()\n",
    "      mat = vc.decode(img)\n",
    "      try:\n",
    "        match re.extract(mat, ts.models['llobregat23']):\n",
    "          case E.Left(err):\n",
    "            meta = ExtractMeta(robust_extract_result=E.Left(err))\n",
    "          case E.Right(ok):\n",
    "            res = await store_results(ok, api.core)\n",
    "            meta = ExtractMeta(robust_extract_result=E.Right(res))\n",
    "      except Exception as e:\n",
    "        meta = ExtractMeta(robust_extract_result=E.Left(f'Unexpected error: {e}'))\n",
    "      image.meta = (image.meta or {}) | meta.model_dump(exclude_none=True)\n",
    "  \n",
    "  (await api.core.games.update(game.id, game)).unsafe()"
   ]
  }
 ],
 "metadata": {
  "kernelspec": {
   "display_name": ".venv",
   "language": "python",
   "name": "python3"
  },
  "language_info": {
   "codemirror_mode": {
    "name": "ipython",
    "version": 3
   },
   "file_extension": ".py",
   "mimetype": "text/x-python",
   "name": "python",
   "nbconvert_exporter": "python",
   "pygments_lexer": "ipython3",
   "version": "3.11.6"
  }
 },
 "nbformat": 4,
 "nbformat_minor": 2
}

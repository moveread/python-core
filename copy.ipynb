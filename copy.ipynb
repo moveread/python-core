{
 "cells": [
  {
   "cell_type": "code",
   "execution_count": 48,
   "metadata": {},
   "outputs": [],
   "source": [
    "from moveread.core import CoreAPI\n",
    "from haskellian import either as E, iter as I, promise as P"
   ]
  },
  {
   "cell_type": "code",
   "execution_count": 17,
   "metadata": {},
   "outputs": [],
   "source": [
    "input = CoreAPI.at('.core/llobregat23/')\n",
    "output = CoreAPI.at('output-core')"
   ]
  },
  {
   "cell_type": "code",
   "execution_count": 23,
   "metadata": {},
   "outputs": [],
   "source": [
    "games = await output.games.values().map(E.unsafe).sync()"
   ]
  },
  {
   "cell_type": "code",
   "execution_count": 51,
   "metadata": {},
   "outputs": [
    {
     "name": "stdout",
     "output_type": "stream",
     "text": [
      "1040/1041 - deleted 0"
     ]
    }
   ],
   "source": [
    "async def find():\n",
    "  all_deleted = []\n",
    "  for i, game in enumerate(games):\n",
    "    print(f'\\r{i}/{len(games)} - deleted {len(all_deleted)}', end='', flush=True)\n",
    "    deleted = []\n",
    "    for player in game.players:\n",
    "      for sheet in player.sheets:\n",
    "        for i, img in enumerate(sheet.images):\n",
    "          if img.meta and img.meta.source == 'raw-scan':\n",
    "            deleted.append(img.url)\n",
    "            del sheet.images[i]\n",
    "    \n",
    "    for url in deleted:\n",
    "      (await output.blobs.delete(url)).unsafe()\n",
    "      all_deleted.append((game.id, url))\n",
    "\n",
    "await find()"
   ]
  }
 ],
 "metadata": {
  "kernelspec": {
   "display_name": ".venv",
   "language": "python",
   "name": "python3"
  },
  "language_info": {
   "codemirror_mode": {
    "name": "ipython",
    "version": 3
   },
   "file_extension": ".py",
   "mimetype": "text/x-python",
   "name": "python",
   "nbconvert_exporter": "python",
   "pygments_lexer": "ipython3",
   "version": "3.11.6"
  }
 },
 "nbformat": 4,
 "nbformat_minor": 2
}

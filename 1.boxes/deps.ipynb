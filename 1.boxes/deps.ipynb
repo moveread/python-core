{
 "cells": [
  {
   "cell_type": "code",
   "execution_count": 1,
   "metadata": {},
   "outputs": [],
   "source": [
    "from typing import Iterable\n",
    "import importlib\n",
    "import pkgutil\n",
    "\n",
    "def import_errors(pkg: str) -> Iterable[tuple[str, ImportError]]:\n",
    "  try:\n",
    "    mod = importlib.import_module(pkg)\n",
    "  except ImportError as e:\n",
    "    yield pkg, e\n",
    "    return\n",
    "  if not hasattr(mod, '__path__'):\n",
    "    return\n",
    "  for _, name, _ in pkgutil.iter_modules(mod.__path__):\n",
    "    full_name = f\"{pkg}.{name}\"\n",
    "    yield from import_errors(full_name)"
   ]
  },
  {
   "cell_type": "code",
   "execution_count": 29,
   "metadata": {},
   "outputs": [
    {
     "name": "stderr",
     "output_type": "stream",
     "text": [
      "2024-05-07 15:03:25.334342: I external/local_tsl/tsl/cuda/cudart_stub.cc:32] Could not find cuda drivers on your machine, GPU will not be used.\n",
      "2024-05-07 15:03:25.486504: I external/local_tsl/tsl/cuda/cudart_stub.cc:32] Could not find cuda drivers on your machine, GPU will not be used.\n",
      "2024-05-07 15:03:26.080791: I tensorflow/core/platform/cpu_feature_guard.cc:210] This TensorFlow binary is optimized to use available CPU instructions in performance-critical operations.\n",
      "To enable the following instructions: AVX2 FMA, in other operations, rebuild TensorFlow with the appropriate compiler flags.\n",
      "2024-05-07 15:03:27.787612: W tensorflow/compiler/tf2tensorrt/utils/py_utils.cc:38] TF-TRT Warning: Could not find TensorRT\n"
     ]
    },
    {
     "data": {
      "text/plain": [
       "[('moveread.core.core', ModuleNotFoundError(\"No module named 'kv.api'\")),\n",
       " ('moveread.core.local', ModuleNotFoundError(\"No module named 'kv.api'\")),\n",
       " ('moveread.datasets', ModuleNotFoundError(\"No module named 'kv.api'\")),\n",
       " ('moveread.errors', ModuleNotFoundError(\"No module named 'kv.api'\")),\n",
       " ('moveread.export.core', ModuleNotFoundError(\"No module named 'kv.api'\")),\n",
       " ('moveread.export.games', ModuleNotFoundError(\"No module named 'kv.api'\")),\n",
       " ('moveread.export.images', ModuleNotFoundError(\"No module named 'kv.api'\")),\n",
       " ('moveread.export.players', ModuleNotFoundError(\"No module named 'kv.api'\")),\n",
       " ('moveread.export.sheets', ModuleNotFoundError(\"No module named 'kv.api'\")),\n",
       " ('moveread.export.tensorflow',\n",
       "  ModuleNotFoundError(\"No module named 'tf_tools'\"))]"
      ]
     },
     "execution_count": 29,
     "metadata": {},
     "output_type": "execute_result"
    }
   ],
   "source": [
    "list(import_errors('moveread'))"
   ]
  }
 ],
 "metadata": {
  "kernelspec": {
   "display_name": ".venv",
   "language": "python",
   "name": "python3"
  },
  "language_info": {
   "codemirror_mode": {
    "name": "ipython",
    "version": 3
   },
   "file_extension": ".py",
   "mimetype": "text/x-python",
   "name": "python",
   "nbconvert_exporter": "python",
   "pygments_lexer": "ipython3",
   "version": "3.11.6"
  }
 },
 "nbformat": 4,
 "nbformat_minor": 2
}
